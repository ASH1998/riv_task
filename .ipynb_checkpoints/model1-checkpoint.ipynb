{
 "cells": [
  {
   "cell_type": "code",
   "execution_count": 1,
   "metadata": {
    "ExecuteTime": {
     "end_time": "2019-04-30T07:02:47.552573Z",
     "start_time": "2019-04-30T07:02:45.060253Z"
    }
   },
   "outputs": [
    {
     "name": "stderr",
     "output_type": "stream",
     "text": [
      "Using TensorFlow backend.\n"
     ]
    }
   ],
   "source": [
    "import os\n",
    "import time\n",
    "import numpy as np # linear algebra\n",
    "import pandas as pd # data processing, CSV file I/O (e.g. pd.read_csv)\n",
    "from tqdm import tqdm\n",
    "import math\n",
    "from sklearn.model_selection import train_test_split\n",
    "from sklearn import metrics\n",
    "\n",
    "from keras.preprocessing.text import Tokenizer\n",
    "from keras.preprocessing.sequence import pad_sequences\n",
    "from keras.layers import Dense, Input, LSTM, Embedding, Dropout, Activation, CuDNNGRU, Conv1D\n",
    "from keras.layers import Bidirectional, GlobalMaxPool1D\n",
    "from keras.models import Model\n",
    "from keras import initializers, regularizers, constraints, optimizers, layers"
   ]
  },
  {
   "cell_type": "code",
   "execution_count": 2,
   "metadata": {
    "ExecuteTime": {
     "end_time": "2019-04-30T07:02:47.596417Z",
     "start_time": "2019-04-30T07:02:47.569519Z"
    }
   },
   "outputs": [
    {
     "name": "stderr",
     "output_type": "stream",
     "text": [
      "C:\\ProgramData\\Miniconda3\\envs\\pygpu\\lib\\site-packages\\ipykernel_launcher.py:1: FutureWarning: read_table is deprecated, use read_csv instead, passing sep='\\t'.\n",
      "  \"\"\"Entry point for launching an IPython kernel.\n",
      "C:\\ProgramData\\Miniconda3\\envs\\pygpu\\lib\\site-packages\\ipykernel_launcher.py:2: FutureWarning: read_table is deprecated, use read_csv instead, passing sep='\\t'.\n",
      "  \n"
     ]
    }
   ],
   "source": [
    "df1 = pd.read_table(\"assignment/1.txt\", header=None)\n",
    "df2 = pd.read_table('assignment/2.txt', header=None)\n",
    "df3 = pd.read_csv('assignment/3.txt')"
   ]
  },
  {
   "cell_type": "code",
   "execution_count": 3,
   "metadata": {
    "ExecuteTime": {
     "end_time": "2019-04-30T07:02:47.652269Z",
     "start_time": "2019-04-30T07:02:47.645319Z"
    }
   },
   "outputs": [],
   "source": [
    "df1.columns = ['Text', 'Prediction']\n",
    "df2.columns = ['Prediction', 'Text']\n",
    "df2 = df2[['Text', 'Prediction']]"
   ]
  },
  {
   "cell_type": "code",
   "execution_count": 4,
   "metadata": {
    "ExecuteTime": {
     "end_time": "2019-04-30T07:02:47.704128Z",
     "start_time": "2019-04-30T07:02:47.698145Z"
    }
   },
   "outputs": [],
   "source": [
    "train_df = df1.append(df2, ignore_index=True)\n",
    "test_df = df3[['Text', 'Prediction']]"
   ]
  },
  {
   "cell_type": "code",
   "execution_count": 5,
   "metadata": {
    "ExecuteTime": {
     "end_time": "2019-04-30T07:02:48.924005Z",
     "start_time": "2019-04-30T07:02:48.919024Z"
    }
   },
   "outputs": [],
   "source": [
    "train_df, val_df = train_test_split(train_df, test_size=0.2, random_state=2018)"
   ]
  },
  {
   "cell_type": "code",
   "execution_count": 48,
   "metadata": {
    "ExecuteTime": {
     "end_time": "2019-04-30T07:53:55.445615Z",
     "start_time": "2019-04-30T07:53:55.442624Z"
    }
   },
   "outputs": [],
   "source": [
    "## some config values \n",
    "embed_size = 300 # how big is each word vector\n",
    "max_features = 10000 # how many unique words to use (i.e num rows in embedding vector)\n",
    "maxlen = 100 # max number of words in a question to use"
   ]
  },
  {
   "cell_type": "code",
   "execution_count": 49,
   "metadata": {
    "ExecuteTime": {
     "end_time": "2019-04-30T07:53:57.288508Z",
     "start_time": "2019-04-30T07:53:57.282484Z"
    }
   },
   "outputs": [],
   "source": [
    "## fill up the missing values\n",
    "train_X = train_df[\"Text\"].fillna(\"_na_\").values\n",
    "val_X = val_df[\"Text\"].fillna(\"_na_\").values\n",
    "test_X = test_df[\"Text\"].fillna(\"_na_\").values"
   ]
  },
  {
   "cell_type": "code",
   "execution_count": 50,
   "metadata": {
    "ExecuteTime": {
     "end_time": "2019-04-30T07:53:57.964544Z",
     "start_time": "2019-04-30T07:53:57.729155Z"
    }
   },
   "outputs": [],
   "source": [
    "#make tokenizers\n",
    "tokenizer = Tokenizer(num_words=max_features)\n",
    "tokenizer.fit_on_texts(list(train_X))\n",
    "train_X = tokenizer.texts_to_sequences(train_X)\n",
    "val_X = tokenizer.texts_to_sequences(val_X)\n",
    "test_X = tokenizer.texts_to_sequences(test_X)\n",
    "\n",
    "## Pad the sentences \n",
    "train_X = pad_sequences(train_X, maxlen=maxlen)\n",
    "val_X = pad_sequences(val_X, maxlen=maxlen)\n",
    "test_X = pad_sequences(test_X, maxlen=maxlen)\n",
    "\n",
    "## Get the target values\n",
    "train_y = train_df['Prediction'].values\n",
    "val_y = val_df['Prediction'].values"
   ]
  },
  {
   "cell_type": "code",
   "execution_count": 51,
   "metadata": {
    "ExecuteTime": {
     "end_time": "2019-04-30T07:53:59.423871Z",
     "start_time": "2019-04-30T07:53:59.136647Z"
    }
   },
   "outputs": [
    {
     "name": "stdout",
     "output_type": "stream",
     "text": [
      "_________________________________________________________________\n",
      "Layer (type)                 Output Shape              Param #   \n",
      "=================================================================\n",
      "input_3 (InputLayer)         (None, 100)               0         \n",
      "_________________________________________________________________\n",
      "embedding_3 (Embedding)      (None, 100, 300)          3000000   \n",
      "_________________________________________________________________\n",
      "bidirectional_3 (Bidirection (None, 100, 128)          140544    \n",
      "_________________________________________________________________\n",
      "global_max_pooling1d_3 (Glob (None, 128)               0         \n",
      "_________________________________________________________________\n",
      "dense_5 (Dense)              (None, 16)                2064      \n",
      "_________________________________________________________________\n",
      "dropout_3 (Dropout)          (None, 16)                0         \n",
      "_________________________________________________________________\n",
      "dense_6 (Dense)              (None, 1)                 17        \n",
      "=================================================================\n",
      "Total params: 3,142,625\n",
      "Trainable params: 3,142,625\n",
      "Non-trainable params: 0\n",
      "_________________________________________________________________\n"
     ]
    }
   ],
   "source": [
    "#without pretrained embeddings\n",
    "inp = Input(shape=(maxlen,))\n",
    "x = Embedding(max_features, embed_size)(inp)\n",
    "x = Bidirectional(CuDNNGRU(64, return_sequences=True))(x)\n",
    "x = GlobalMaxPool1D()(x)\n",
    "x = Dense(16, activation=\"relu\")(x)\n",
    "x = Dropout(0.1)(x)\n",
    "x = Dense(1, activation=\"sigmoid\")(x)\n",
    "model = Model(inputs=inp, outputs=x)\n",
    "model.compile(loss='binary_crossentropy', optimizer='adam', metrics=['accuracy'])\n",
    "\n",
    "model.summary()"
   ]
  },
  {
   "cell_type": "code",
   "execution_count": 52,
   "metadata": {
    "ExecuteTime": {
     "end_time": "2019-04-30T07:54:13.416808Z",
     "start_time": "2019-04-30T07:54:09.763578Z"
    }
   },
   "outputs": [
    {
     "name": "stdout",
     "output_type": "stream",
     "text": [
      "Train on 6094 samples, validate on 1524 samples\n",
      "Epoch 1/3\n",
      "6094/6094 [==============================] - ETA: 9s - loss: 0.6972 - acc: 0.427 - ETA: 4s - loss: 0.6937 - acc: 0.502 - ETA: 2s - loss: 0.6907 - acc: 0.604 - ETA: 2s - loss: 0.6874 - acc: 0.672 - ETA: 1s - loss: 0.6841 - acc: 0.712 - ETA: 1s - loss: 0.6804 - acc: 0.742 - ETA: 0s - loss: 0.6764 - acc: 0.762 - ETA: 0s - loss: 0.6726 - acc: 0.776 - ETA: 0s - loss: 0.6679 - acc: 0.790 - ETA: 0s - loss: 0.6640 - acc: 0.796 - ETA: 0s - loss: 0.6590 - acc: 0.808 - 2s 264us/step - loss: 0.6545 - acc: 0.8134 - val_loss: 0.5884 - val_acc: 0.8996\n",
      "Epoch 2/3\n",
      "6094/6094 [==============================] - ETA: 0s - loss: 0.5913 - acc: 0.882 - ETA: 0s - loss: 0.5808 - acc: 0.894 - ETA: 0s - loss: 0.5698 - acc: 0.903 - ETA: 0s - loss: 0.5625 - acc: 0.901 - ETA: 0s - loss: 0.5558 - acc: 0.901 - ETA: 0s - loss: 0.5469 - acc: 0.905 - ETA: 0s - loss: 0.5377 - acc: 0.908 - ETA: 0s - loss: 0.5278 - acc: 0.912 - ETA: 0s - loss: 0.5183 - acc: 0.914 - ETA: 0s - loss: 0.5083 - acc: 0.917 - ETA: 0s - loss: 0.4971 - acc: 0.921 - 1s 109us/step - loss: 0.4877 - acc: 0.9225 - val_loss: 0.3569 - val_acc: 0.9304\n",
      "Epoch 3/3\n",
      "6094/6094 [==============================] - ETA: 0s - loss: 0.3406 - acc: 0.964 - ETA: 0s - loss: 0.3319 - acc: 0.956 - ETA: 0s - loss: 0.3182 - acc: 0.959 - ETA: 0s - loss: 0.3051 - acc: 0.958 - ETA: 0s - loss: 0.2919 - acc: 0.960 - ETA: 0s - loss: 0.2795 - acc: 0.961 - ETA: 0s - loss: 0.2681 - acc: 0.962 - ETA: 0s - loss: 0.2564 - acc: 0.962 - ETA: 0s - loss: 0.2461 - acc: 0.962 - ETA: 0s - loss: 0.2346 - acc: 0.963 - ETA: 0s - loss: 0.2251 - acc: 0.964 - 1s 109us/step - loss: 0.2172 - acc: 0.9634 - val_loss: 0.1351 - val_acc: 0.9403\n"
     ]
    },
    {
     "data": {
      "text/plain": [
       "<keras.callbacks.History at 0x12b09aa2048>"
      ]
     },
     "execution_count": 52,
     "metadata": {},
     "output_type": "execute_result"
    }
   ],
   "source": [
    "## Train the model \n",
    "model.fit(train_X, train_y, batch_size=512, epochs=3, validation_data=(val_X, val_y))"
   ]
  },
  {
   "cell_type": "code",
   "execution_count": 53,
   "metadata": {
    "ExecuteTime": {
     "end_time": "2019-04-30T07:54:18.839672Z",
     "start_time": "2019-04-30T07:54:18.643996Z"
    }
   },
   "outputs": [
    {
     "name": "stdout",
     "output_type": "stream",
     "text": [
      "1524/1524 [==============================] - ETA:  - 0s 124us/step\n"
     ]
    }
   ],
   "source": [
    "pred_noemb_val_y = model.predict([val_X], batch_size=1024, verbose=1)"
   ]
  },
  {
   "cell_type": "code",
   "execution_count": 54,
   "metadata": {
    "ExecuteTime": {
     "end_time": "2019-04-30T07:54:19.974008Z",
     "start_time": "2019-04-30T07:54:19.907161Z"
    }
   },
   "outputs": [
    {
     "name": "stdout",
     "output_type": "stream",
     "text": [
      "F1 score at threshold 0.4 is 0.9456210646823126\n",
      "F1 score at threshold 0.41 is 0.946704871060172\n",
      "F1 score at threshold 0.42 is 0.9482758620689655\n",
      "F1 score at threshold 0.43 is 0.9487031700288183\n",
      "F1 score at threshold 0.44 is 0.9486439699942297\n",
      "F1 score at threshold 0.45 is 0.9485251590514749\n",
      "F1 score at threshold 0.46 is 0.9495652173913044\n",
      "F1 score at threshold 0.47 is 0.9493891797556718\n",
      "F1 score at threshold 0.48 is 0.9487179487179487\n",
      "F1 score at threshold 0.49 is 0.9467524868344059\n",
      "F1 score at threshold 0.5 is 0.9467524868344059\n",
      "F1 score at threshold 0.51 is 0.9466900995899238\n",
      "F1 score at threshold 0.52 is 0.9471830985915493\n",
      "F1 score at threshold 0.53 is 0.9452619187757504\n",
      "F1 score at threshold 0.54 is 0.9469339622641509\n",
      "F1 score at threshold 0.55 is 0.9485511531638083\n",
      "F1 score at threshold 0.56 is 0.9478672985781991\n",
      "F1 score at threshold 0.57 is 0.9477434679334916\n",
      "F1 score at threshold 0.58 is 0.9476813317479192\n",
      "F1 score at threshold 0.59 is 0.9462365591397849\n",
      "F1 score at threshold 0.6 is 0.9466746554823248\n"
     ]
    }
   ],
   "source": [
    "for thresh in np.arange(0.4, 0.601, 0.01):\n",
    "    thresh = np.round(thresh, 2)\n",
    "    print(\"F1 score at threshold {0} is {1}\".format(thresh, metrics.f1_score(val_y, (pred_noemb_val_y>thresh).astype(int))))"
   ]
  },
  {
   "cell_type": "code",
   "execution_count": 55,
   "metadata": {
    "ExecuteTime": {
     "end_time": "2019-04-30T07:54:32.430191Z",
     "start_time": "2019-04-30T07:54:32.388282Z"
    }
   },
   "outputs": [
    {
     "name": "stdout",
     "output_type": "stream",
     "text": [
      "932/932 [==============================] - 0s 39us/step\n"
     ]
    }
   ],
   "source": [
    "pred_noemb_test_y = model.predict([test_X], batch_size=1024, verbose=1)"
   ]
  },
  {
   "cell_type": "code",
   "execution_count": 14,
   "metadata": {
    "ExecuteTime": {
     "end_time": "2019-04-30T07:03:33.777868Z",
     "start_time": "2019-04-30T07:03:28.687084Z"
    }
   },
   "outputs": [],
   "source": [
    "del model, inp, x\n",
    "import gc; gc.collect()\n",
    "time.sleep(5)"
   ]
  },
  {
   "cell_type": "code",
   "execution_count": 57,
   "metadata": {
    "ExecuteTime": {
     "end_time": "2019-04-30T07:55:49.986287Z",
     "start_time": "2019-04-30T07:55:19.579726Z"
    }
   },
   "outputs": [
    {
     "name": "stderr",
     "output_type": "stream",
     "text": [
      "C:\\ProgramData\\Miniconda3\\envs\\pygpu\\lib\\site-packages\\ipykernel_launcher.py:5: FutureWarning: arrays to stack must be passed as a \"sequence\" type such as list or tuple. Support for non-sequence iterables such as generators is deprecated as of NumPy 1.16 and will raise an error in the future.\n",
      "  \"\"\"\n"
     ]
    }
   ],
   "source": [
    "#using Glove embeddings\n",
    "\n",
    "EMBEDDING_FILE = r'E:\\DATA SETS & compressed and weights\\glove.6B\\glove.6B.300d.txt'\n",
    "def get_coefs(word,*arr): return word, np.asarray(arr, dtype='float32')\n",
    "embeddings_index = dict(get_coefs(*o.split(\" \")) for o in open(EMBEDDING_FILE, encoding='utf-8'))\n",
    "\n",
    "all_embs = np.stack(embeddings_index.values())\n",
    "emb_mean,emb_std = all_embs.mean(), all_embs.std()\n",
    "embed_size = all_embs.shape[1]\n",
    "word_index = tokenizer.word_index\n",
    "nb_words = min(max_features, len(word_index))\n",
    "embedding_matrix = np.random.normal(emb_mean, emb_std, (nb_words, embed_size))"
   ]
  },
  {
   "cell_type": "code",
   "execution_count": 58,
   "metadata": {
    "ExecuteTime": {
     "end_time": "2019-04-30T07:56:05.065108Z",
     "start_time": "2019-04-30T07:56:05.056129Z"
    }
   },
   "outputs": [],
   "source": [
    "for word, i in word_index.items():\n",
    "    if i >= max_features: continue\n",
    "    embedding_vector = embeddings_index.get(word)\n",
    "    if embedding_vector is not None: embedding_matrix[i-1] = embedding_vector"
   ]
  },
  {
   "cell_type": "code",
   "execution_count": 59,
   "metadata": {
    "ExecuteTime": {
     "end_time": "2019-04-30T07:56:12.041558Z",
     "start_time": "2019-04-30T07:56:11.454577Z"
    }
   },
   "outputs": [
    {
     "name": "stdout",
     "output_type": "stream",
     "text": [
      "_________________________________________________________________\n",
      "Layer (type)                 Output Shape              Param #   \n",
      "=================================================================\n",
      "input_4 (InputLayer)         (None, 100)               0         \n",
      "_________________________________________________________________\n",
      "embedding_4 (Embedding)      (None, 100, 300)          1156200   \n",
      "_________________________________________________________________\n",
      "bidirectional_4 (Bidirection (None, 100, 128)          140544    \n",
      "_________________________________________________________________\n",
      "global_max_pooling1d_4 (Glob (None, 128)               0         \n",
      "_________________________________________________________________\n",
      "dense_7 (Dense)              (None, 16)                2064      \n",
      "_________________________________________________________________\n",
      "dropout_4 (Dropout)          (None, 16)                0         \n",
      "_________________________________________________________________\n",
      "dense_8 (Dense)              (None, 1)                 17        \n",
      "=================================================================\n",
      "Total params: 1,298,825\n",
      "Trainable params: 1,298,825\n",
      "Non-trainable params: 0\n",
      "_________________________________________________________________\n",
      "None\n"
     ]
    }
   ],
   "source": [
    "inp = Input(shape=(maxlen,))\n",
    "x = Embedding(embedding_matrix.shape[0], embed_size, weights=[embedding_matrix])(inp)\n",
    "x = Bidirectional(CuDNNGRU(64, return_sequences=True))(x)\n",
    "x = GlobalMaxPool1D()(x)\n",
    "x = Dense(16, activation=\"relu\")(x)\n",
    "x = Dropout(0.1)(x)\n",
    "x = Dense(1, activation=\"sigmoid\")(x)\n",
    "model = Model(inputs=inp, outputs=x)\n",
    "model.compile(loss='binary_crossentropy', optimizer='adam', metrics=['accuracy'])\n",
    "print(model.summary())"
   ]
  },
  {
   "cell_type": "code",
   "execution_count": 60,
   "metadata": {
    "ExecuteTime": {
     "end_time": "2019-04-30T07:56:26.823361Z",
     "start_time": "2019-04-30T07:56:23.336654Z"
    }
   },
   "outputs": [
    {
     "name": "stdout",
     "output_type": "stream",
     "text": [
      "Train on 6094 samples, validate on 1524 samples\n",
      "Epoch 1/3\n",
      "6094/6094 [==============================] - ETA: 8s - loss: 0.7008 - acc: 0.509 - ETA: 4s - loss: 0.6875 - acc: 0.538 - ETA: 2s - loss: 0.6751 - acc: 0.552 - ETA: 1s - loss: 0.6576 - acc: 0.586 - ETA: 1s - loss: 0.6416 - acc: 0.627 - ETA: 1s - loss: 0.6268 - acc: 0.661 - ETA: 0s - loss: 0.6129 - acc: 0.686 - ETA: 0s - loss: 0.5978 - acc: 0.701 - ETA: 0s - loss: 0.5868 - acc: 0.712 - ETA: 0s - loss: 0.5665 - acc: 0.735 - 2s 247us/step - loss: 0.5573 - acc: 0.7457 - val_loss: 0.4211 - val_acc: 0.8898\n",
      "Epoch 2/3\n",
      "6094/6094 [==============================] - ETA: 0s - loss: 0.4083 - acc: 0.882 - ETA: 0s - loss: 0.3952 - acc: 0.890 - ETA: 0s - loss: 0.3828 - acc: 0.895 - ETA: 0s - loss: 0.3725 - acc: 0.888 - ETA: 0s - loss: 0.3529 - acc: 0.896 - ETA: 0s - loss: 0.3432 - acc: 0.898 - ETA: 0s - loss: 0.3286 - acc: 0.902 - 1s 105us/step - loss: 0.3211 - acc: 0.9042 - val_loss: 0.2497 - val_acc: 0.9094\n",
      "Epoch 3/3\n",
      "6094/6094 [==============================] - ETA: 0s - loss: 0.2149 - acc: 0.925 - ETA: 0s - loss: 0.2130 - acc: 0.930 - ETA: 0s - loss: 0.2104 - acc: 0.930 - ETA: 0s - loss: 0.2061 - acc: 0.931 - ETA: 0s - loss: 0.1956 - acc: 0.933 - ETA: 0s - loss: 0.1912 - acc: 0.934 - 1s 104us/step - loss: 0.1866 - acc: 0.9339 - val_loss: 0.1734 - val_acc: 0.9232\n"
     ]
    },
    {
     "data": {
      "text/plain": [
       "<keras.callbacks.History at 0x12b16c622e8>"
      ]
     },
     "execution_count": 60,
     "metadata": {},
     "output_type": "execute_result"
    }
   ],
   "source": [
    "model.fit(train_X, train_y, batch_size=512, epochs=3, validation_data=(val_X, val_y))"
   ]
  },
  {
   "cell_type": "code",
   "execution_count": 61,
   "metadata": {
    "ExecuteTime": {
     "end_time": "2019-04-30T07:56:37.967386Z",
     "start_time": "2019-04-30T07:56:37.746946Z"
    }
   },
   "outputs": [
    {
     "name": "stdout",
     "output_type": "stream",
     "text": [
      "1524/1524 [==============================] - ETA:  - 0s 141us/step\n"
     ]
    }
   ],
   "source": [
    "pred_glove_val_y = model.predict([val_X], batch_size=1024, verbose=1)"
   ]
  },
  {
   "cell_type": "code",
   "execution_count": 62,
   "metadata": {
    "ExecuteTime": {
     "end_time": "2019-04-30T07:56:47.052438Z",
     "start_time": "2019-04-30T07:56:46.986614Z"
    }
   },
   "outputs": [
    {
     "name": "stdout",
     "output_type": "stream",
     "text": [
      "F1 score at threshold 0.4 is 0.931740614334471\n",
      "F1 score at threshold 0.41 is 0.9316628701594533\n",
      "F1 score at threshold 0.42 is 0.9327251995438997\n",
      "F1 score at threshold 0.43 is 0.930817610062893\n",
      "F1 score at threshold 0.44 is 0.9304997128087307\n",
      "F1 score at threshold 0.45 is 0.9308755760368663\n",
      "F1 score at threshold 0.46 is 0.9324870167339874\n",
      "F1 score at threshold 0.47 is 0.9316338354577057\n",
      "F1 score at threshold 0.48 is 0.931554524361949\n",
      "F1 score at threshold 0.49 is 0.931554524361949\n",
      "F1 score at threshold 0.5 is 0.9320951828206616\n",
      "F1 score at threshold 0.51 is 0.9317784256559768\n",
      "F1 score at threshold 0.52 is 0.9323220536756127\n",
      "F1 score at threshold 0.53 is 0.9336465061655901\n",
      "F1 score at threshold 0.54 is 0.9329411764705883\n",
      "F1 score at threshold 0.55 is 0.9328621908127208\n",
      "F1 score at threshold 0.56 is 0.9309734513274337\n",
      "F1 score at threshold 0.57 is 0.9303423848878395\n",
      "F1 score at threshold 0.58 is 0.9290780141843972\n",
      "F1 score at threshold 0.59 is 0.9289940828402368\n",
      "F1 score at threshold 0.6 is 0.9300947867298578\n"
     ]
    }
   ],
   "source": [
    "for thresh in np.arange(0.4, 0.601, 0.01):\n",
    "    thresh = np.round(thresh, 2)\n",
    "    print(\"F1 score at threshold {0} is {1}\".format(thresh, metrics.f1_score(val_y, (pred_glove_val_y>thresh).astype(int))))"
   ]
  },
  {
   "cell_type": "code",
   "execution_count": 63,
   "metadata": {
    "ExecuteTime": {
     "end_time": "2019-04-30T07:57:10.227744Z",
     "start_time": "2019-04-30T07:57:10.165871Z"
    }
   },
   "outputs": [
    {
     "name": "stdout",
     "output_type": "stream",
     "text": [
      "932/932 [==============================] - 0s 61us/step\n"
     ]
    }
   ],
   "source": [
    "pred_glove_test_y = model.predict([test_X], batch_size=1024, verbose=1)"
   ]
  },
  {
   "cell_type": "code",
   "execution_count": 71,
   "metadata": {
    "ExecuteTime": {
     "end_time": "2019-04-30T07:58:54.833222Z",
     "start_time": "2019-04-30T07:58:49.481936Z"
    }
   },
   "outputs": [],
   "source": [
    "del word_index, embeddings_index, all_embs, embedding_matrix, model, inp, x\n",
    "import gc; gc.collect()\n",
    "time.sleep(5)"
   ]
  },
  {
   "cell_type": "code",
   "execution_count": 64,
   "metadata": {
    "ExecuteTime": {
     "end_time": "2019-04-30T07:57:29.491000Z",
     "start_time": "2019-04-30T07:57:29.486980Z"
    }
   },
   "outputs": [],
   "source": [
    "pred_val_y = 0.5*pred_glove_val_y + 0.5*pred_noemb_val_y"
   ]
  },
  {
   "cell_type": "code",
   "execution_count": 66,
   "metadata": {
    "ExecuteTime": {
     "end_time": "2019-04-30T07:57:51.802177Z",
     "start_time": "2019-04-30T07:57:51.768276Z"
    }
   },
   "outputs": [
    {
     "name": "stdout",
     "output_type": "stream",
     "text": [
      "F1 score at threshold 0.5 is 0.9454123112659697\n",
      "F1 score at threshold 0.51 is 0.9446709376820035\n",
      "F1 score at threshold 0.52 is 0.9438596491228071\n",
      "F1 score at threshold 0.53 is 0.9442160892542573\n",
      "F1 score at threshold 0.54 is 0.9434628975265018\n",
      "F1 score at threshold 0.55 is 0.9409681227863046\n",
      "F1 score at threshold 0.56 is 0.9402013025458852\n",
      "F1 score at threshold 0.57 is 0.9387269482450923\n",
      "F1 score at threshold 0.58 is 0.9373881932021467\n",
      "F1 score at threshold 0.59 is 0.9385074626865673\n",
      "F1 score at threshold 0.6 is 0.9377245508982037\n"
     ]
    }
   ],
   "source": [
    "for thresh in np.arange(0.5, 0.601, 0.01):\n",
    "    thresh = np.round(thresh, 2)\n",
    "    print(\"F1 score at threshold {0} is {1}\".format(thresh, metrics.f1_score(val_y, (pred_val_y>thresh).astype(int))))"
   ]
  },
  {
   "cell_type": "code",
   "execution_count": 67,
   "metadata": {
    "ExecuteTime": {
     "end_time": "2019-04-30T07:58:23.882487Z",
     "start_time": "2019-04-30T07:58:23.878500Z"
    }
   },
   "outputs": [],
   "source": [
    "pred_test_y = 0.5*pred_glove_test_y + 0.5*pred_noemb_test_y"
   ]
  },
  {
   "cell_type": "code",
   "execution_count": 68,
   "metadata": {
    "ExecuteTime": {
     "end_time": "2019-04-30T07:58:28.070592Z",
     "start_time": "2019-04-30T07:58:28.067586Z"
    }
   },
   "outputs": [],
   "source": [
    "pred_test_y = (pred_test_y>0.5).astype(int)"
   ]
  },
  {
   "cell_type": "code",
   "execution_count": 69,
   "metadata": {
    "ExecuteTime": {
     "end_time": "2019-04-30T07:58:32.923408Z",
     "start_time": "2019-04-30T07:58:32.920416Z"
    }
   },
   "outputs": [],
   "source": [
    "out_df =  pd.DataFrame(test_df)\n",
    "out_df['Prediction'] = pred_test_y"
   ]
  },
  {
   "cell_type": "code",
   "execution_count": 70,
   "metadata": {
    "ExecuteTime": {
     "end_time": "2019-04-30T07:58:40.682501Z",
     "start_time": "2019-04-30T07:58:40.669536Z"
    }
   },
   "outputs": [],
   "source": [
    "out_df.to_csv(\"out.csv\")"
   ]
  },
  {
   "cell_type": "code",
   "execution_count": 56,
   "metadata": {
    "ExecuteTime": {
     "end_time": "2019-04-30T07:55:05.009625Z",
     "start_time": "2019-04-30T07:55:04.983479Z"
    }
   },
   "outputs": [],
   "source": [
    "pred_noemb_test_y = (pred_noemb_test_y>0.5).astype(int)\n",
    "out_df2 =  pd.DataFrame(test_df)\n",
    "out_df2['Prediction'] = pred_noemb_test_y\n",
    "out_df2.to_csv(\"out_2.csv\")"
   ]
  },
  {
   "cell_type": "code",
   "execution_count": 75,
   "metadata": {
    "ExecuteTime": {
     "end_time": "2019-04-30T08:01:10.398251Z",
     "start_time": "2019-04-30T08:01:10.267626Z"
    }
   },
   "outputs": [
    {
     "data": {
      "text/html": [
       "<script type=\"text/javascript\">window.PlotlyConfig = {MathJaxConfig: 'local'};</script><script type=\"text/javascript\">if (window.MathJax) {MathJax.Hub.Config({SVG: {font: \"STIX-Web\"}});}</script><script>requirejs.config({paths: { 'plotly': ['https://cdn.plot.ly/plotly-latest.min']},});if(!window._Plotly) {require(['plotly'],function(plotly) {window._Plotly=plotly;});}</script>"
      ],
      "text/vnd.plotly.v1+html": [
       "<script type=\"text/javascript\">window.PlotlyConfig = {MathJaxConfig: 'local'};</script><script type=\"text/javascript\">if (window.MathJax) {MathJax.Hub.Config({SVG: {font: \"STIX-Web\"}});}</script><script>requirejs.config({paths: { 'plotly': ['https://cdn.plot.ly/plotly-latest.min']},});if(!window._Plotly) {require(['plotly'],function(plotly) {window._Plotly=plotly;});}</script>"
      ]
     },
     "metadata": {},
     "output_type": "display_data"
    },
    {
     "data": {
      "application/vnd.plotly.v1+json": {
       "config": {
        "linkText": "Export to plot.ly",
        "plotlyServerURL": "https://plot.ly",
        "showLink": false
       },
       "data": [
        {
         "marker": {
          "color": [
           473,
           459
          ],
          "colorscale": "Picnic",
          "reversescale": true
         },
         "type": "bar",
         "uid": "7a19f080-a226-402a-9adf-4110269b9b14",
         "x": [
          0,
          1
         ],
         "y": [
          473,
          459
         ]
        }
       ],
       "layout": {
        "font": {
         "size": 18
        },
        "title": {
         "text": "Target Count"
        }
       }
      },
      "text/html": [
       "<div id=\"f8386a01-bb7a-4005-b84a-697bf06ebfd1\" style=\"height: 525px; width: 100%;\" class=\"plotly-graph-div\"></div><script type=\"text/javascript\">require([\"plotly\"], function(Plotly) { window.PLOTLYENV=window.PLOTLYENV || {};window.PLOTLYENV.BASE_URL=\"https://plot.ly\";\n",
       "if (document.getElementById(\"f8386a01-bb7a-4005-b84a-697bf06ebfd1\")) {\n",
       "    Plotly.newPlot(\"f8386a01-bb7a-4005-b84a-697bf06ebfd1\", [{\"marker\": {\"color\": [473, 459], \"colorscale\": \"Picnic\", \"reversescale\": true}, \"x\": [0, 1], \"y\": [473, 459], \"type\": \"bar\", \"uid\": \"7a19f080-a226-402a-9adf-4110269b9b14\"}], {\"font\": {\"size\": 18}, \"title\": {\"text\": \"Target Count\"}}, {\"showLink\": false, \"linkText\": \"Export to plot.ly\", \"plotlyServerURL\": \"https://plot.ly\"}); \n",
       "}\n",
       "});</script><script type=\"text/javascript\">window.addEventListener(\"resize\", function(){if (document.getElementById(\"f8386a01-bb7a-4005-b84a-697bf06ebfd1\")) {window._Plotly.Plots.resize(document.getElementById(\"f8386a01-bb7a-4005-b84a-697bf06ebfd1\"));};})</script>"
      ],
      "text/vnd.plotly.v1+html": [
       "<div id=\"f8386a01-bb7a-4005-b84a-697bf06ebfd1\" style=\"height: 525px; width: 100%;\" class=\"plotly-graph-div\"></div><script type=\"text/javascript\">require([\"plotly\"], function(Plotly) { window.PLOTLYENV=window.PLOTLYENV || {};window.PLOTLYENV.BASE_URL=\"https://plot.ly\";\n",
       "if (document.getElementById(\"f8386a01-bb7a-4005-b84a-697bf06ebfd1\")) {\n",
       "    Plotly.newPlot(\"f8386a01-bb7a-4005-b84a-697bf06ebfd1\", [{\"marker\": {\"color\": [473, 459], \"colorscale\": \"Picnic\", \"reversescale\": true}, \"x\": [0, 1], \"y\": [473, 459], \"type\": \"bar\", \"uid\": \"7a19f080-a226-402a-9adf-4110269b9b14\"}], {\"font\": {\"size\": 18}, \"title\": {\"text\": \"Target Count\"}}, {\"showLink\": false, \"linkText\": \"Export to plot.ly\", \"plotlyServerURL\": \"https://plot.ly\"}); \n",
       "}\n",
       "});</script><script type=\"text/javascript\">window.addEventListener(\"resize\", function(){if (document.getElementById(\"f8386a01-bb7a-4005-b84a-697bf06ebfd1\")) {window._Plotly.Plots.resize(document.getElementById(\"f8386a01-bb7a-4005-b84a-697bf06ebfd1\"));};})</script>"
      ]
     },
     "metadata": {},
     "output_type": "display_data"
    },
    {
     "data": {
      "application/vnd.plotly.v1+json": {
       "config": {
        "linkText": "Export to plot.ly",
        "plotlyServerURL": "https://plot.ly",
        "showLink": false
       },
       "data": [
        {
         "labels": [
          0,
          1
         ],
         "type": "pie",
         "uid": "9f4ebc1c-0199-44ab-899b-9f112ecb3c75",
         "values": [
          50.75107296137339,
          49.24892703862661
         ]
        }
       ],
       "layout": {
        "font": {
         "size": 18
        },
        "height": 600,
        "title": {
         "text": "Target distribution for ensemble model"
        },
        "width": 600
       }
      },
      "text/html": [
       "<div id=\"88f3041c-a811-4669-a9ed-ddcda135d085\" style=\"height: 600px; width: 600px;\" class=\"plotly-graph-div\"></div><script type=\"text/javascript\">require([\"plotly\"], function(Plotly) { window.PLOTLYENV=window.PLOTLYENV || {};window.PLOTLYENV.BASE_URL=\"https://plot.ly\";\n",
       "if (document.getElementById(\"88f3041c-a811-4669-a9ed-ddcda135d085\")) {\n",
       "    Plotly.newPlot(\"88f3041c-a811-4669-a9ed-ddcda135d085\", [{\"labels\": [0, 1], \"values\": [50.75107296137339, 49.24892703862661], \"type\": \"pie\", \"uid\": \"9f4ebc1c-0199-44ab-899b-9f112ecb3c75\"}], {\"font\": {\"size\": 18}, \"height\": 600, \"title\": {\"text\": \"Target distribution for ensemble model\"}, \"width\": 600}, {\"showLink\": false, \"linkText\": \"Export to plot.ly\", \"plotlyServerURL\": \"https://plot.ly\"}); \n",
       "}\n",
       "});</script>"
      ],
      "text/vnd.plotly.v1+html": [
       "<div id=\"88f3041c-a811-4669-a9ed-ddcda135d085\" style=\"height: 600px; width: 600px;\" class=\"plotly-graph-div\"></div><script type=\"text/javascript\">require([\"plotly\"], function(Plotly) { window.PLOTLYENV=window.PLOTLYENV || {};window.PLOTLYENV.BASE_URL=\"https://plot.ly\";\n",
       "if (document.getElementById(\"88f3041c-a811-4669-a9ed-ddcda135d085\")) {\n",
       "    Plotly.newPlot(\"88f3041c-a811-4669-a9ed-ddcda135d085\", [{\"labels\": [0, 1], \"values\": [50.75107296137339, 49.24892703862661], \"type\": \"pie\", \"uid\": \"9f4ebc1c-0199-44ab-899b-9f112ecb3c75\"}], {\"font\": {\"size\": 18}, \"height\": 600, \"title\": {\"text\": \"Target distribution for ensemble model\"}, \"width\": 600}, {\"showLink\": false, \"linkText\": \"Export to plot.ly\", \"plotlyServerURL\": \"https://plot.ly\"}); \n",
       "}\n",
       "});</script>"
      ]
     },
     "metadata": {},
     "output_type": "display_data"
    }
   ],
   "source": [
    "from plotly import tools\n",
    "import plotly.offline as py\n",
    "py.init_notebook_mode(connected=True)\n",
    "import plotly.graph_objs as go\n",
    "\n",
    "cnt_srs = out_df['Prediction'].value_counts()\n",
    "trace = go.Bar(\n",
    "    x=cnt_srs.index,\n",
    "    y=cnt_srs.values,\n",
    "    marker=dict(\n",
    "        color=cnt_srs.values,\n",
    "        colorscale = 'Picnic',\n",
    "        reversescale = True\n",
    "    ),\n",
    ")\n",
    "\n",
    "layout = go.Layout(\n",
    "    title='Target Count',\n",
    "    font=dict(size=18)\n",
    ")\n",
    "\n",
    "data = [trace]\n",
    "fig = go.Figure(data=data, layout=layout)\n",
    "py.iplot(fig, filename=\"TargetCount\")\n",
    "\n",
    "## target distribution ##\n",
    "labels = (np.array(cnt_srs.index))\n",
    "sizes = (np.array((cnt_srs / cnt_srs.sum())*100))\n",
    "\n",
    "trace = go.Pie(labels=labels, values=sizes)\n",
    "layout = go.Layout(\n",
    "    title='Target distribution for ensemble model',\n",
    "    font=dict(size=18),\n",
    "    width=600,\n",
    "    height=600,\n",
    ")\n",
    "data = [trace]\n",
    "fig = go.Figure(data=data, layout=layout)\n",
    "py.iplot(fig, filename=\"usertype\")"
   ]
  },
  {
   "cell_type": "code",
   "execution_count": 76,
   "metadata": {
    "ExecuteTime": {
     "end_time": "2019-04-30T08:01:26.233413Z",
     "start_time": "2019-04-30T08:01:26.101729Z"
    }
   },
   "outputs": [
    {
     "data": {
      "application/vnd.plotly.v1+json": {
       "config": {
        "linkText": "Export to plot.ly",
        "plotlyServerURL": "https://plot.ly",
        "showLink": false
       },
       "data": [
        {
         "marker": {
          "color": [
           473,
           459
          ],
          "colorscale": "Picnic",
          "reversescale": true
         },
         "type": "bar",
         "uid": "7fe6c86a-6c45-4551-858f-3fd699813d9f",
         "x": [
          0,
          1
         ],
         "y": [
          473,
          459
         ]
        }
       ],
       "layout": {
        "font": {
         "size": 18
        },
        "title": {
         "text": "Target Count"
        }
       }
      },
      "text/html": [
       "<div id=\"89b95467-68d8-46d3-8abe-a91ceb1f156a\" style=\"height: 525px; width: 100%;\" class=\"plotly-graph-div\"></div><script type=\"text/javascript\">require([\"plotly\"], function(Plotly) { window.PLOTLYENV=window.PLOTLYENV || {};window.PLOTLYENV.BASE_URL=\"https://plot.ly\";\n",
       "if (document.getElementById(\"89b95467-68d8-46d3-8abe-a91ceb1f156a\")) {\n",
       "    Plotly.newPlot(\"89b95467-68d8-46d3-8abe-a91ceb1f156a\", [{\"marker\": {\"color\": [473, 459], \"colorscale\": \"Picnic\", \"reversescale\": true}, \"x\": [0, 1], \"y\": [473, 459], \"type\": \"bar\", \"uid\": \"7fe6c86a-6c45-4551-858f-3fd699813d9f\"}], {\"font\": {\"size\": 18}, \"title\": {\"text\": \"Target Count\"}}, {\"showLink\": false, \"linkText\": \"Export to plot.ly\", \"plotlyServerURL\": \"https://plot.ly\"}); \n",
       "}\n",
       "});</script><script type=\"text/javascript\">window.addEventListener(\"resize\", function(){if (document.getElementById(\"89b95467-68d8-46d3-8abe-a91ceb1f156a\")) {window._Plotly.Plots.resize(document.getElementById(\"89b95467-68d8-46d3-8abe-a91ceb1f156a\"));};})</script>"
      ],
      "text/vnd.plotly.v1+html": [
       "<div id=\"89b95467-68d8-46d3-8abe-a91ceb1f156a\" style=\"height: 525px; width: 100%;\" class=\"plotly-graph-div\"></div><script type=\"text/javascript\">require([\"plotly\"], function(Plotly) { window.PLOTLYENV=window.PLOTLYENV || {};window.PLOTLYENV.BASE_URL=\"https://plot.ly\";\n",
       "if (document.getElementById(\"89b95467-68d8-46d3-8abe-a91ceb1f156a\")) {\n",
       "    Plotly.newPlot(\"89b95467-68d8-46d3-8abe-a91ceb1f156a\", [{\"marker\": {\"color\": [473, 459], \"colorscale\": \"Picnic\", \"reversescale\": true}, \"x\": [0, 1], \"y\": [473, 459], \"type\": \"bar\", \"uid\": \"7fe6c86a-6c45-4551-858f-3fd699813d9f\"}], {\"font\": {\"size\": 18}, \"title\": {\"text\": \"Target Count\"}}, {\"showLink\": false, \"linkText\": \"Export to plot.ly\", \"plotlyServerURL\": \"https://plot.ly\"}); \n",
       "}\n",
       "});</script><script type=\"text/javascript\">window.addEventListener(\"resize\", function(){if (document.getElementById(\"89b95467-68d8-46d3-8abe-a91ceb1f156a\")) {window._Plotly.Plots.resize(document.getElementById(\"89b95467-68d8-46d3-8abe-a91ceb1f156a\"));};})</script>"
      ]
     },
     "metadata": {},
     "output_type": "display_data"
    },
    {
     "data": {
      "application/vnd.plotly.v1+json": {
       "config": {
        "linkText": "Export to plot.ly",
        "plotlyServerURL": "https://plot.ly",
        "showLink": false
       },
       "data": [
        {
         "labels": [
          0,
          1
         ],
         "type": "pie",
         "uid": "9c9c0011-458c-4a55-924c-92da82165c4e",
         "values": [
          50.75107296137339,
          49.24892703862661
         ]
        }
       ],
       "layout": {
        "font": {
         "size": 18
        },
        "height": 600,
        "title": {
         "text": "Target distribution for no embeddings model"
        },
        "width": 600
       }
      },
      "text/html": [
       "<div id=\"e8e3aab1-71d9-45b1-8791-cee79e85bbde\" style=\"height: 600px; width: 600px;\" class=\"plotly-graph-div\"></div><script type=\"text/javascript\">require([\"plotly\"], function(Plotly) { window.PLOTLYENV=window.PLOTLYENV || {};window.PLOTLYENV.BASE_URL=\"https://plot.ly\";\n",
       "if (document.getElementById(\"e8e3aab1-71d9-45b1-8791-cee79e85bbde\")) {\n",
       "    Plotly.newPlot(\"e8e3aab1-71d9-45b1-8791-cee79e85bbde\", [{\"labels\": [0, 1], \"values\": [50.75107296137339, 49.24892703862661], \"type\": \"pie\", \"uid\": \"9c9c0011-458c-4a55-924c-92da82165c4e\"}], {\"font\": {\"size\": 18}, \"height\": 600, \"title\": {\"text\": \"Target distribution for no embeddings model\"}, \"width\": 600}, {\"showLink\": false, \"linkText\": \"Export to plot.ly\", \"plotlyServerURL\": \"https://plot.ly\"}); \n",
       "}\n",
       "});</script>"
      ],
      "text/vnd.plotly.v1+html": [
       "<div id=\"e8e3aab1-71d9-45b1-8791-cee79e85bbde\" style=\"height: 600px; width: 600px;\" class=\"plotly-graph-div\"></div><script type=\"text/javascript\">require([\"plotly\"], function(Plotly) { window.PLOTLYENV=window.PLOTLYENV || {};window.PLOTLYENV.BASE_URL=\"https://plot.ly\";\n",
       "if (document.getElementById(\"e8e3aab1-71d9-45b1-8791-cee79e85bbde\")) {\n",
       "    Plotly.newPlot(\"e8e3aab1-71d9-45b1-8791-cee79e85bbde\", [{\"labels\": [0, 1], \"values\": [50.75107296137339, 49.24892703862661], \"type\": \"pie\", \"uid\": \"9c9c0011-458c-4a55-924c-92da82165c4e\"}], {\"font\": {\"size\": 18}, \"height\": 600, \"title\": {\"text\": \"Target distribution for no embeddings model\"}, \"width\": 600}, {\"showLink\": false, \"linkText\": \"Export to plot.ly\", \"plotlyServerURL\": \"https://plot.ly\"}); \n",
       "}\n",
       "});</script>"
      ]
     },
     "metadata": {},
     "output_type": "display_data"
    }
   ],
   "source": [
    "cnt_srs = out_df2['Prediction'].value_counts()\n",
    "trace = go.Bar(\n",
    "    x=cnt_srs.index,\n",
    "    y=cnt_srs.values,\n",
    "    marker=dict(\n",
    "        color=cnt_srs.values,\n",
    "        colorscale = 'Picnic',\n",
    "        reversescale = True\n",
    "    ),\n",
    ")\n",
    "\n",
    "layout = go.Layout(\n",
    "    title='Target Count',\n",
    "    font=dict(size=18)\n",
    ")\n",
    "\n",
    "data = [trace]\n",
    "fig = go.Figure(data=data, layout=layout)\n",
    "py.iplot(fig, filename=\"TargetCount\")\n",
    "\n",
    "## target distribution ##\n",
    "labels = (np.array(cnt_srs.index))\n",
    "sizes = (np.array((cnt_srs / cnt_srs.sum())*100))\n",
    "\n",
    "trace = go.Pie(labels=labels, values=sizes)\n",
    "layout = go.Layout(\n",
    "    title='Target distribution for no embeddings model',\n",
    "    font=dict(size=18),\n",
    "    width=600,\n",
    "    height=600,\n",
    ")\n",
    "data = [trace]\n",
    "fig = go.Figure(data=data, layout=layout)\n",
    "py.iplot(fig, filename=\"usertype\")"
   ]
  },
  {
   "cell_type": "code",
   "execution_count": 80,
   "metadata": {
    "ExecuteTime": {
     "end_time": "2019-04-30T08:03:25.339924Z",
     "start_time": "2019-04-30T08:03:25.335937Z"
    }
   },
   "outputs": [],
   "source": [
    "df3['Prediction'] = out_df['Prediction']\n",
    "df3.columns = [' ', 'index', 'Text', 'Prediction']"
   ]
  },
  {
   "cell_type": "code",
   "execution_count": 87,
   "metadata": {
    "ExecuteTime": {
     "end_time": "2019-04-30T08:06:38.619355Z",
     "start_time": "2019-04-30T08:06:38.598377Z"
    }
   },
   "outputs": [],
   "source": [
    "df3.to_csv('3.txt', index=False)"
   ]
  },
  {
   "cell_type": "code",
   "execution_count": null,
   "metadata": {},
   "outputs": [],
   "source": []
  }
 ],
 "metadata": {
  "hide_input": false,
  "kernelspec": {
   "display_name": "Python 3",
   "language": "python",
   "name": "python3"
  },
  "language_info": {
   "codemirror_mode": {
    "name": "ipython",
    "version": 3
   },
   "file_extension": ".py",
   "mimetype": "text/x-python",
   "name": "python",
   "nbconvert_exporter": "python",
   "pygments_lexer": "ipython3",
   "version": "3.6.8"
  },
  "varInspector": {
   "cols": {
    "lenName": 16,
    "lenType": 16,
    "lenVar": 40
   },
   "kernels_config": {
    "python": {
     "delete_cmd_postfix": "",
     "delete_cmd_prefix": "del ",
     "library": "var_list.py",
     "varRefreshCmd": "print(var_dic_list())"
    },
    "r": {
     "delete_cmd_postfix": ") ",
     "delete_cmd_prefix": "rm(",
     "library": "var_list.r",
     "varRefreshCmd": "cat(var_dic_list()) "
    }
   },
   "types_to_exclude": [
    "module",
    "function",
    "builtin_function_or_method",
    "instance",
    "_Feature"
   ],
   "window_display": false
  }
 },
 "nbformat": 4,
 "nbformat_minor": 2
}
